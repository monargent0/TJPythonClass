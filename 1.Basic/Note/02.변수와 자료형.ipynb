{
 "cells": [
  {
   "cell_type": "code",
   "execution_count": 2,
   "metadata": {},
   "outputs": [],
   "source": [
    "var01 = 3\n",
    "var02 = 4"
   ]
  },
  {
   "cell_type": "code",
   "execution_count": 3,
   "metadata": {},
   "outputs": [
    {
     "name": "stdout",
     "output_type": "stream",
     "text": [
      "덧셈 :  7 \n",
      "뺄셈 :  -1 \n",
      "곱셈 :  12\n",
      "실수 나눗셈 :  0.75 \n",
      "정수 나눗셈 몫 :  0 \n",
      "정수 나눗셈 나머지 : 3\n",
      "제곱 :  9\n"
     ]
    }
   ],
   "source": [
    "print('덧셈 : ', var01 + var02 , '\\n뺄셈 : ' , var01 - var02 , '\\n곱셈 : ', var01 * var02)\n",
    "print('실수 나눗셈 : ', var01 / var02 , '\\n정수 나눗셈 몫 : ' , var01 // var02 , '\\n정수 나눗셈 나머지 :' , var01 % var02 )\n",
    "print('제곱 : ' , var01 ** 2 )"
   ]
  },
  {
   "cell_type": "code",
   "execution_count": 5,
   "metadata": {},
   "outputs": [
    {
     "name": "stdout",
     "output_type": "stream",
     "text": [
      "거듭제곱 9\n",
      "거듭제곱 9\n",
      "aaabbbb\n",
      "aaa bbbb\n"
     ]
    }
   ],
   "source": [
    "print('거듭제곱' , var01 ** 2)\n",
    "print('거듭제곱' , pow(var01, 2))\n",
    "print('aaa' +'bbbb')\n",
    "print('aaa' ,'bbbb')"
   ]
  },
  {
   "cell_type": "markdown",
   "metadata": {},
   "source": [
    "## 파이썬 모듈을 이용한 수학계산 (강사님 pick : numpy)\n",
    "### 여러 모듈이 있으니 내가 선택해서 사용"
   ]
  },
  {
   "cell_type": "code",
   "execution_count": 18,
   "metadata": {},
   "outputs": [],
   "source": [
    "import math"
   ]
  },
  {
   "cell_type": "code",
   "execution_count": 19,
   "metadata": {},
   "outputs": [
    {
     "data": {
      "text/plain": [
       "9.0"
      ]
     },
     "execution_count": 19,
     "metadata": {},
     "output_type": "execute_result"
    }
   ],
   "source": [
    "# 거듭제곱 \n",
    "math.pow(var01 , 2)"
   ]
  },
  {
   "cell_type": "code",
   "execution_count": 20,
   "metadata": {},
   "outputs": [
    {
     "data": {
      "text/plain": [
       "1.7320508075688772"
      ]
     },
     "execution_count": 20,
     "metadata": {},
     "output_type": "execute_result"
    }
   ],
   "source": [
    "# 제곱근\n",
    "math.sqrt(var01)"
   ]
  },
  {
   "cell_type": "code",
   "execution_count": 25,
   "metadata": {},
   "outputs": [
    {
     "data": {
      "text/plain": [
       "0.7240368080645851"
      ]
     },
     "execution_count": 25,
     "metadata": {},
     "output_type": "execute_result"
    }
   ],
   "source": [
    "# sin 45도\n",
    "math.sin(45)"
   ]
  },
  {
   "cell_type": "code",
   "execution_count": 28,
   "metadata": {},
   "outputs": [
    {
     "data": {
      "text/plain": [
       "1.0"
      ]
     },
     "execution_count": 28,
     "metadata": {},
     "output_type": "execute_result"
    }
   ],
   "source": [
    "# sin 45 ^ 2 + cos45 ^ 2\n",
    "math.pow( math.sin(45) , 2) + math.pow( math.cos(45) , 2)"
   ]
  },
  {
   "cell_type": "markdown",
   "metadata": {},
   "source": [
    "### 난수발생"
   ]
  },
  {
   "cell_type": "code",
   "execution_count": 29,
   "metadata": {},
   "outputs": [],
   "source": [
    "# 난수발생 모듈 불러오기\n",
    "import random"
   ]
  },
  {
   "cell_type": "code",
   "execution_count": 33,
   "metadata": {},
   "outputs": [
    {
     "data": {
      "text/plain": [
       "16"
      ]
     },
     "execution_count": 33,
     "metadata": {},
     "output_type": "execute_result"
    }
   ],
   "source": [
    "random.randint(1, 100) # 1 ~ 100 사이에 있는 난수 1개 발생"
   ]
  },
  {
   "cell_type": "code",
   "execution_count": 39,
   "metadata": {},
   "outputs": [
    {
     "data": {
      "text/plain": [
       "[30, 6, 34, 17, 33, 31]"
      ]
     },
     "execution_count": 39,
     "metadata": {},
     "output_type": "execute_result"
    }
   ],
   "source": [
    "list(range(1 , 10)) # range(start, stop(포함하지 않음)) \n",
    "\n",
    "lotto_list = range(1, 46) # 1 ~ 45\n",
    "random.sample(lotto_list, 6)"
   ]
  },
  {
   "cell_type": "code",
   "execution_count": 41,
   "metadata": {},
   "outputs": [
    {
     "name": "stdout",
     "output_type": "stream",
     "text": [
      "123.5\n",
      "123.45\n"
     ]
    }
   ],
   "source": [
    "# 반올림\n",
    "print(round(123.45 , 1))\n",
    "print(round(123.45 , 2))"
   ]
  },
  {
   "cell_type": "code",
   "execution_count": 44,
   "metadata": {},
   "outputs": [
    {
     "name": "stdout",
     "output_type": "stream",
     "text": [
      "2\n",
      "2\n"
     ]
    }
   ],
   "source": [
    "# 올림\n",
    "print(math.ceil(1.1))\n",
    "print(math.ceil(1.9))"
   ]
  },
  {
   "cell_type": "code",
   "execution_count": 46,
   "metadata": {},
   "outputs": [
    {
     "name": "stdout",
     "output_type": "stream",
     "text": [
      "1\n",
      "1\n"
     ]
    }
   ],
   "source": [
    "# 내림\n",
    "print(math.floor(1.1))\n",
    "print(math.floor(1.9))"
   ]
  },
  {
   "cell_type": "code",
   "execution_count": 47,
   "metadata": {},
   "outputs": [
    {
     "data": {
      "text/plain": [
       "['In',\n",
       " 'Out',\n",
       " '_',\n",
       " '_19',\n",
       " '_20',\n",
       " '_21',\n",
       " '_22',\n",
       " '_23',\n",
       " '_24',\n",
       " '_25',\n",
       " '_28',\n",
       " '_30',\n",
       " '_31',\n",
       " '_32',\n",
       " '_33',\n",
       " '_34',\n",
       " '_35',\n",
       " '_37',\n",
       " '_39',\n",
       " '__',\n",
       " '___',\n",
       " '__builtin__',\n",
       " '__builtins__',\n",
       " '__doc__',\n",
       " '__loader__',\n",
       " '__name__',\n",
       " '__package__',\n",
       " '__spec__',\n",
       " '__vsc_ipynb_file__',\n",
       " '_dh',\n",
       " '_i',\n",
       " '_i1',\n",
       " '_i10',\n",
       " '_i11',\n",
       " '_i12',\n",
       " '_i13',\n",
       " '_i14',\n",
       " '_i15',\n",
       " '_i16',\n",
       " '_i17',\n",
       " '_i18',\n",
       " '_i19',\n",
       " '_i2',\n",
       " '_i20',\n",
       " '_i21',\n",
       " '_i22',\n",
       " '_i23',\n",
       " '_i24',\n",
       " '_i25',\n",
       " '_i26',\n",
       " '_i27',\n",
       " '_i28',\n",
       " '_i29',\n",
       " '_i3',\n",
       " '_i30',\n",
       " '_i31',\n",
       " '_i32',\n",
       " '_i33',\n",
       " '_i34',\n",
       " '_i35',\n",
       " '_i36',\n",
       " '_i37',\n",
       " '_i38',\n",
       " '_i39',\n",
       " '_i4',\n",
       " '_i40',\n",
       " '_i41',\n",
       " '_i42',\n",
       " '_i43',\n",
       " '_i44',\n",
       " '_i45',\n",
       " '_i46',\n",
       " '_i47',\n",
       " '_i5',\n",
       " '_i6',\n",
       " '_i7',\n",
       " '_i8',\n",
       " '_i9',\n",
       " '_ih',\n",
       " '_ii',\n",
       " '_iii',\n",
       " '_oh',\n",
       " 'exit',\n",
       " 'get_ipython',\n",
       " 'lotto_list',\n",
       " 'math',\n",
       " 'os',\n",
       " 'quit',\n",
       " 'random',\n",
       " 'sys',\n",
       " 'var01',\n",
       " 'var02']"
      ]
     },
     "execution_count": 47,
     "metadata": {},
     "output_type": "execute_result"
    }
   ],
   "source": [
    "# 메모리에 있는 변수 보기\n",
    "dir()"
   ]
  },
  {
   "cell_type": "code",
   "execution_count": 48,
   "metadata": {},
   "outputs": [
    {
     "data": {
      "text/plain": [
       "3"
      ]
     },
     "execution_count": 48,
     "metadata": {},
     "output_type": "execute_result"
    }
   ],
   "source": [
    "var01"
   ]
  },
  {
   "cell_type": "code",
   "execution_count": 49,
   "metadata": {},
   "outputs": [],
   "source": [
    "# 메모리에 있는 변수 제거\n",
    "del var01"
   ]
  },
  {
   "cell_type": "code",
   "execution_count": 50,
   "metadata": {},
   "outputs": [
    {
     "ename": "NameError",
     "evalue": "name 'var01' is not defined",
     "output_type": "error",
     "traceback": [
      "\u001b[0;31m---------------------------------------------------------------------------\u001b[0m",
      "\u001b[0;31mNameError\u001b[0m                                 Traceback (most recent call last)",
      "\u001b[0;32m/var/folders/r9/905wglgd76v1f_n1q9jw68rr0000gn/T/ipykernel_5231/232433112.py\u001b[0m in \u001b[0;36m<module>\u001b[0;34m\u001b[0m\n\u001b[0;32m----> 1\u001b[0;31m \u001b[0mvar01\u001b[0m\u001b[0;34m\u001b[0m\u001b[0;34m\u001b[0m\u001b[0m\n\u001b[0m",
      "\u001b[0;31mNameError\u001b[0m: name 'var01' is not defined"
     ]
    }
   ],
   "source": [
    "var01 # 지웠으니 없음"
   ]
  },
  {
   "cell_type": "markdown",
   "metadata": {},
   "source": [
    "### 관계연산자"
   ]
  },
  {
   "cell_type": "code",
   "execution_count": 51,
   "metadata": {},
   "outputs": [],
   "source": [
    "num1 = 100\n",
    "num2 = 20"
   ]
  },
  {
   "cell_type": "code",
   "execution_count": 53,
   "metadata": {},
   "outputs": [
    {
     "name": "stdout",
     "output_type": "stream",
     "text": [
      "False\n",
      "True\n",
      "True\n",
      "False\n",
      "True\n",
      "False\n"
     ]
    }
   ],
   "source": [
    "print(num1 == num2)\n",
    "print(num1 != num2)\n",
    "print(num1 > num2)\n",
    "print(num1 < num2)\n",
    "print(num1 >= num2)\n",
    "print(num1 <= num2)"
   ]
  },
  {
   "cell_type": "markdown",
   "metadata": {},
   "source": [
    "### 논리 연산자"
   ]
  },
  {
   "cell_type": "code",
   "execution_count": 56,
   "metadata": {},
   "outputs": [
    {
     "name": "stdout",
     "output_type": "stream",
     "text": [
      "False\n",
      "True\n",
      "False\n",
      "True\n"
     ]
    }
   ],
   "source": [
    "print((num1 >= 50) & (num2 <= 10))\n",
    "print((num1 >= 50) | (num2 <= 10))\n",
    "print((num1 >= 50) and (num2 <= 10))\n",
    "print((num1 >= 50) or (num2 <= 10))"
   ]
  },
  {
   "cell_type": "code",
   "execution_count": 59,
   "metadata": {},
   "outputs": [
    {
     "data": {
      "text/plain": [
       "False"
      ]
     },
     "execution_count": 59,
     "metadata": {},
     "output_type": "execute_result"
    }
   ],
   "source": [
    "# 부정 연산자\n",
    "not(num1 >= 50)"
   ]
  },
  {
   "cell_type": "code",
   "execution_count": 61,
   "metadata": {},
   "outputs": [
    {
     "name": "stdout",
     "output_type": "stream",
     "text": [
      "01.Preview.ipynb\n",
      "02.변수와 자료형.ipynb\n",
      "=\n"
     ]
    }
   ],
   "source": [
    "# OS 명령어 사용 !\n",
    "!ls"
   ]
  },
  {
   "cell_type": "code",
   "execution_count": 66,
   "metadata": {},
   "outputs": [
    {
     "data": {
      "text/plain": [
       "\"'Hello World!'\""
      ]
     },
     "execution_count": 66,
     "metadata": {},
     "output_type": "execute_result"
    }
   ],
   "source": [
    "# 문자열\n",
    "var01 = \"'Hello World!'\"\n",
    "var01"
   ]
  },
  {
   "cell_type": "code",
   "execution_count": 68,
   "metadata": {},
   "outputs": [
    {
     "name": "stdout",
     "output_type": "stream",
     "text": [
      " \n",
      "    Hello World!\n",
      "    12345\n",
      "    대한민국\n",
      "\n"
     ]
    }
   ],
   "source": [
    "var01 = \"\"\" \n",
    "    Hello World!\n",
    "    12345\n",
    "    대한민국\n",
    "\"\"\"\n",
    "var01\n",
    "print(var01)"
   ]
  },
  {
   "cell_type": "code",
   "execution_count": 72,
   "metadata": {},
   "outputs": [
    {
     "name": "stdout",
     "output_type": "stream",
     "text": [
      "My father's wife is my mother\n",
      "He says \"I love you.\"\n"
     ]
    }
   ],
   "source": [
    "# 쌍따옴표와 홑따옴표의 사용 \n",
    "var01 = \"My father's wife is my mother\"\n",
    "var02 = 'He says \"I love you.\"'\n",
    "print(var01)\n",
    "print(var02)"
   ]
  },
  {
   "cell_type": "code",
   "execution_count": 75,
   "metadata": {},
   "outputs": [
    {
     "name": "stdout",
     "output_type": "stream",
     "text": [
      "Pythonis fun.\n",
      "Python is fun.\n"
     ]
    }
   ],
   "source": [
    "# 문자열 연산\n",
    "var01 = \"Python\"\n",
    "var02 = \"is fun.\"\n",
    "\n",
    "print(var01 + var02) # 띄어쓰기 없음\n",
    "print(var01, var02) # 띄어쓰기 기본 설정 되어있음"
   ]
  },
  {
   "cell_type": "code",
   "execution_count": 76,
   "metadata": {},
   "outputs": [
    {
     "name": "stdout",
     "output_type": "stream",
     "text": [
      "PythonPythonPython\n"
     ]
    }
   ],
   "source": [
    "# 문자열 연산 ( 곱셈 )\n",
    "print(var01 * 3)"
   ]
  },
  {
   "cell_type": "code",
   "execution_count": 77,
   "metadata": {},
   "outputs": [
    {
     "name": "stdout",
     "output_type": "stream",
     "text": [
      "====================\n",
      "Python\n",
      "--------------------\n"
     ]
    }
   ],
   "source": [
    "print(\"=\" * 20)\n",
    "print(var01)\n",
    "print(\"-\" *20)"
   ]
  },
  {
   "cell_type": "code",
   "execution_count": 84,
   "metadata": {},
   "outputs": [
    {
     "name": "stdout",
     "output_type": "stream",
     "text": [
      "a\n",
      "abc\n",
      "n\n",
      "fghijklmn\n",
      "abcde\n",
      "abd\n",
      "fghijkl\n"
     ]
    }
   ],
   "source": [
    "# 문자열 indexing(list의 인덱스)과 Slicing(범위 정할때 사용)\n",
    "str = \"abcdefghijklmn\"\n",
    "\n",
    "print(str[0]) # indexing , 자동으로 listing이 된다\n",
    "print(str[0:3]) # slicing , 0부터 3개\n",
    "print(str[-1]) # 끝에서 1번째\n",
    "print(str[5:]) # 5번째 부터 끝까지 다\n",
    "print(str[:5]) # 처음부터 5개 글자\n",
    "print(str[0] + str[1] + str[3])\n",
    "print(str[5:-2])"
   ]
  },
  {
   "cell_type": "code",
   "execution_count": 86,
   "metadata": {},
   "outputs": [
    {
     "name": "stdout",
     "output_type": "stream",
     "text": [
      "2022 1229 Snow\n"
     ]
    }
   ],
   "source": [
    "str = \"20221229Snow\"\n",
    "year = str[:4]\n",
    "day = str[4:8]\n",
    "weather = str[-4:]\n",
    "\n",
    "print( year , day , weather)\n",
    "# 2022, 1229 Snow"
   ]
  },
  {
   "cell_type": "code",
   "execution_count": 90,
   "metadata": {},
   "outputs": [
    {
     "name": "stdout",
     "output_type": "stream",
     "text": [
      "abcde\n"
     ]
    }
   ],
   "source": [
    "str = \"abbde\"\n",
    "\n",
    "# abcde\n",
    "print(str[:2] + 'c' + str[-2:])"
   ]
  },
  {
   "cell_type": "markdown",
   "metadata": {},
   "source": [
    "### 문자열 formatting"
   ]
  },
  {
   "cell_type": "code",
   "execution_count": 95,
   "metadata": {},
   "outputs": [
    {
     "name": "stdout",
     "output_type": "stream",
     "text": [
      "I have 2 apples\n",
      "I have two apples.\n"
     ]
    }
   ],
   "source": [
    "print(\"I have %d apples\"%2)\n",
    "print(\"I have %s apples.\" %\"two\")"
   ]
  },
  {
   "cell_type": "code",
   "execution_count": 99,
   "metadata": {},
   "outputs": [
    {
     "name": "stdout",
     "output_type": "stream",
     "text": [
      "I have 2 apples.\n"
     ]
    }
   ],
   "source": [
    "number = 2\n",
    "fruit = \"apples\"\n",
    "print(\"I have %d %s.\"%(number , fruit))"
   ]
  },
  {
   "cell_type": "code",
   "execution_count": 103,
   "metadata": {},
   "outputs": [
    {
     "name": "stdout",
     "output_type": "stream",
     "text": [
      "I have 2     apples.\n",
      "I have 2 apples    .\n"
     ]
    }
   ],
   "source": [
    "# 문자열 정렬\n",
    "print(\"I have 2 %10s.\"%\"apples\") # 좌측 빈칸\n",
    "print(\"I have 2 %-10s.\"%\"apples\") # 우측 빈칸\n"
   ]
  },
  {
   "cell_type": "code",
   "execution_count": 14,
   "metadata": {},
   "outputs": [
    {
     "name": "stdout",
     "output_type": "stream",
     "text": [
      "3.1416\n",
      "  3.1416\n",
      "3.141592\n",
      "3.141592\n"
     ]
    }
   ],
   "source": [
    "print(\"%0.4f\" %3.14159)\n",
    "print(\"%8.4f\" %3.14159) # 10개 빈칸\n",
    "print(\"%f\"%3.141592)\n",
    "print(\"%s\"%3.141592)\n"
   ]
  },
  {
   "cell_type": "markdown",
   "metadata": {},
   "source": [
    "### 문자열 관련 함수"
   ]
  },
  {
   "cell_type": "code",
   "execution_count": 111,
   "metadata": {},
   "outputs": [
    {
     "name": "stdout",
     "output_type": "stream",
     "text": [
      "3\n",
      "15\n"
     ]
    }
   ],
   "source": [
    "# 문자 count\n",
    "str = \"I have a dream.\"\n",
    "print(str.count('a')) # 'a' 글자가 몇개 있냐\n",
    "print(len(str)) # 글자 길이 (공백 포함)"
   ]
  },
  {
   "cell_type": "code",
   "execution_count": 120,
   "metadata": {},
   "outputs": [
    {
     "name": "stdout",
     "output_type": "stream",
     "text": [
      "5\n",
      "3\n",
      "-1\n"
     ]
    },
    {
     "data": {
      "text/plain": [
       "'e'"
      ]
     },
     "execution_count": 120,
     "metadata": {},
     "output_type": "execute_result"
    }
   ],
   "source": [
    "# 문자 위치 알려주기\n",
    "# scapy 할떄 자주 사용\n",
    "print(str.find('e')) # 인덱스 번호\n",
    "print(str.find('a')) # 인덱스 번호\n",
    "print(str.find('x')) # 없는 글자를 찾을 때는 -1로 나옴\n",
    "\n",
    "str[str.find('e')]"
   ]
  },
  {
   "cell_type": "code",
   "execution_count": 127,
   "metadata": {},
   "outputs": [
    {
     "data": {
      "text/plain": [
       "'h*e*l*l*o'"
      ]
     },
     "execution_count": 127,
     "metadata": {},
     "output_type": "execute_result"
    }
   ],
   "source": [
    "# 문자열 삽입\n",
    "str = \",\"\n",
    "str.join('abcde')\n",
    "\n",
    "str01 = '*'\n",
    "str01.join('hello')"
   ]
  },
  {
   "cell_type": "code",
   "execution_count": 123,
   "metadata": {},
   "outputs": [
    {
     "data": {
      "text/plain": [
       "'HI'"
      ]
     },
     "execution_count": 123,
     "metadata": {},
     "output_type": "execute_result"
    }
   ],
   "source": [
    "# 소문자를 대문자로\n",
    "str = \"hi\"\n",
    "str.upper()"
   ]
  },
  {
   "cell_type": "code",
   "execution_count": 125,
   "metadata": {},
   "outputs": [
    {
     "data": {
      "text/plain": [
       "'hi'"
      ]
     },
     "execution_count": 125,
     "metadata": {},
     "output_type": "execute_result"
    }
   ],
   "source": [
    "# 대문자를 소문자로\n",
    "str = 'HI'\n",
    "str.lower()"
   ]
  },
  {
   "cell_type": "code",
   "execution_count": 129,
   "metadata": {},
   "outputs": [
    {
     "data": {
      "text/plain": [
       "'hi'"
      ]
     },
     "execution_count": 129,
     "metadata": {},
     "output_type": "execute_result"
    }
   ],
   "source": [
    "# 공백 지우기\n",
    "str = '            hi'\n",
    "str.lstrip()"
   ]
  },
  {
   "cell_type": "code",
   "execution_count": 132,
   "metadata": {},
   "outputs": [
    {
     "data": {
      "text/plain": [
       "'hi'"
      ]
     },
     "execution_count": 132,
     "metadata": {},
     "output_type": "execute_result"
    }
   ],
   "source": [
    "# 공백 지우기\n",
    "str = 'hi            '\n",
    "str.rstrip()"
   ]
  },
  {
   "cell_type": "code",
   "execution_count": 133,
   "metadata": {},
   "outputs": [
    {
     "data": {
      "text/plain": [
       "'hi'"
      ]
     },
     "execution_count": 133,
     "metadata": {},
     "output_type": "execute_result"
    }
   ],
   "source": [
    "# 공백 지우기\n",
    "str = '            hi            '\n",
    "str.strip()"
   ]
  },
  {
   "cell_type": "code",
   "execution_count": 135,
   "metadata": {},
   "outputs": [
    {
     "data": {
      "text/plain": [
       "'Life is too short to be unhappy.'"
      ]
     },
     "execution_count": 135,
     "metadata": {},
     "output_type": "execute_result"
    }
   ],
   "source": [
    "# 문자열 바꾸기\n",
    "str = 'Life is too short to be happy.'\n",
    "str.replace('happy', 'unhappy')"
   ]
  },
  {
   "cell_type": "code",
   "execution_count": 142,
   "metadata": {},
   "outputs": [
    {
     "data": {
      "text/plain": [
       "['Life', 'is', 'too', 'short', 'to', 'be', 'happy.']"
      ]
     },
     "execution_count": 142,
     "metadata": {},
     "output_type": "execute_result"
    }
   ],
   "source": [
    "# 문자열 나누기 \n",
    "str01 = 'Life is too short to be happy.'\n",
    "str01.split()\n",
    "list01 = str01.split() # 공백을 기준으로 나눈다\n",
    "type(list01)\n",
    "list01\n"
   ]
  },
  {
   "cell_type": "code",
   "execution_count": 144,
   "metadata": {},
   "outputs": [
    {
     "data": {
      "text/plain": [
       "7"
      ]
     },
     "execution_count": 144,
     "metadata": {},
     "output_type": "execute_result"
    }
   ],
   "source": [
    "len(list01)"
   ]
  },
  {
   "cell_type": "code",
   "execution_count": 146,
   "metadata": {},
   "outputs": [
    {
     "data": {
      "text/plain": [
       "['a', 'b', 'c', 'd']"
      ]
     },
     "execution_count": 146,
     "metadata": {},
     "output_type": "execute_result"
    }
   ],
   "source": [
    "str02 = 'a:b:c:d'\n",
    "str02.split(':') # : 기준으로 나눈다"
   ]
  },
  {
   "cell_type": "markdown",
   "metadata": {},
   "source": [
    "### 고급 문자열 Formattong"
   ]
  },
  {
   "cell_type": "code",
   "execution_count": 150,
   "metadata": {},
   "outputs": [
    {
     "data": {
      "text/plain": [
       "'I have 3 apples.'"
      ]
     },
     "execution_count": 150,
     "metadata": {},
     "output_type": "execute_result"
    }
   ],
   "source": [
    "# 숫자 바로 대입하기\n",
    "\"I have {0} apples.\".format(3)"
   ]
  },
  {
   "cell_type": "code",
   "execution_count": 152,
   "metadata": {},
   "outputs": [
    {
     "data": {
      "text/plain": [
       "'I have three apples.'"
      ]
     },
     "execution_count": 152,
     "metadata": {},
     "output_type": "execute_result"
    }
   ],
   "source": [
    "\"I have {0} apples.\".format(\"three\")"
   ]
  },
  {
   "cell_type": "code",
   "execution_count": 15,
   "metadata": {},
   "outputs": [
    {
     "data": {
      "text/plain": [
       "' I have 10 apples, I will go aborad for three days.'"
      ]
     },
     "execution_count": 15,
     "metadata": {},
     "output_type": "execute_result"
    }
   ],
   "source": [
    "number = 10\n",
    "day = \"three\"\n",
    "\" I have {0} apples, I will go aborad for three days.\".format(number)   "
   ]
  },
  {
   "cell_type": "code",
   "execution_count": 18,
   "metadata": {},
   "outputs": [
    {
     "data": {
      "text/plain": [
       "'hi   '"
      ]
     },
     "execution_count": 18,
     "metadata": {},
     "output_type": "execute_result"
    }
   ],
   "source": [
    "# 왼쪽 정렬\n",
    "'{0:<10}'.format(\"hi\")\n"
   ]
  },
  {
   "cell_type": "code",
   "execution_count": 17,
   "metadata": {},
   "outputs": [
    {
     "data": {
      "text/plain": [
       "'        hi'"
      ]
     },
     "execution_count": 17,
     "metadata": {},
     "output_type": "execute_result"
    }
   ],
   "source": [
    "# 오른쪽 정렬\n",
    "'{0:>10}'.format(\"hi\")\n"
   ]
  },
  {
   "cell_type": "code",
   "execution_count": 20,
   "metadata": {},
   "outputs": [
    {
     "data": {
      "text/plain": [
       "'  hi  '"
      ]
     },
     "execution_count": 20,
     "metadata": {},
     "output_type": "execute_result"
    }
   ],
   "source": [
    "# 가운데 정렬\n",
    "'{0:^6}'.format(\"hi\")\n"
   ]
  },
  {
   "cell_type": "code",
   "execution_count": 21,
   "metadata": {},
   "outputs": [
    {
     "data": {
      "text/plain": [
       "'==hi=='"
      ]
     },
     "execution_count": 21,
     "metadata": {},
     "output_type": "execute_result"
    }
   ],
   "source": [
    "'{0:=^6}'.format(\"hi\")"
   ]
  },
  {
   "cell_type": "markdown",
   "metadata": {},
   "source": [
    "### f문자열 formatting (Python 3.6 이상)"
   ]
  },
  {
   "cell_type": "code",
   "execution_count": 167,
   "metadata": {},
   "outputs": [
    {
     "data": {
      "text/plain": [
       "'나의 이름은 홍길동 이고 나이는 30세 입니다.'"
      ]
     },
     "execution_count": 167,
     "metadata": {},
     "output_type": "execute_result"
    }
   ],
   "source": [
    "# f문자열 formatting (Python 3.6 이상)\n",
    "# 최근에 많이 사용\n",
    "name = '홍길동'\n",
    "age = 30\n",
    "f'나의 이름은 {name} 이고 나이는 {age}세 입니다.'"
   ]
  },
  {
   "cell_type": "code",
   "execution_count": 168,
   "metadata": {},
   "outputs": [
    {
     "data": {
      "text/plain": [
       "'나는 내년이면 31살 입니다.'"
      ]
     },
     "execution_count": 168,
     "metadata": {},
     "output_type": "execute_result"
    }
   ],
   "source": [
    "f'나는 내년이면 {age + 1}살 입니다.'"
   ]
  },
  {
   "cell_type": "markdown",
   "metadata": {},
   "source": [
    "### 날짜형 변환"
   ]
  },
  {
   "cell_type": "code",
   "execution_count": 22,
   "metadata": {},
   "outputs": [],
   "source": [
    "# 날짜형 모듈 불러오기\n",
    "from datetime import datetime, timedelta"
   ]
  },
  {
   "cell_type": "code",
   "execution_count": 23,
   "metadata": {},
   "outputs": [
    {
     "name": "stdout",
     "output_type": "stream",
     "text": [
      "2022-12-25 00:00:00\n"
     ]
    }
   ],
   "source": [
    "time1 = datetime(2022, 12, 25, 0, 0, 0) # 년 울 일 시 분 백만분의 초 milli\n",
    "print(time1)"
   ]
  },
  {
   "cell_type": "code",
   "execution_count": 24,
   "metadata": {},
   "outputs": [
    {
     "name": "stdout",
     "output_type": "stream",
     "text": [
      "2022-07-29 00:41:13.393806\n",
      "148 days, 23:18:46.606194\n"
     ]
    }
   ],
   "source": [
    "# 날짜 계산하기\n",
    "time2 = datetime.now()\n",
    "print(time2)\n",
    "print(time1 - time2)"
   ]
  },
  {
   "cell_type": "code",
   "execution_count": 25,
   "metadata": {},
   "outputs": [
    {
     "name": "stdout",
     "output_type": "stream",
     "text": [
      "148 일\n",
      "83926 초\n"
     ]
    }
   ],
   "source": [
    "# 좀 더 편리하게 출력\n",
    "print((time1 - time2).days , '일')\n",
    "print((time1 - time2).seconds , '초')"
   ]
  },
  {
   "cell_type": "code",
   "execution_count": 39,
   "metadata": {},
   "outputs": [
    {
     "data": {
      "text/plain": [
       "83926"
      ]
     },
     "execution_count": 39,
     "metadata": {},
     "output_type": "execute_result"
    }
   ],
   "source": [
    "23 * 60 * 60 + 18 * 60 + 46"
   ]
  },
  {
   "cell_type": "code",
   "execution_count": 184,
   "metadata": {},
   "outputs": [
    {
     "data": {
      "text/plain": [
       "4447"
      ]
     },
     "execution_count": 184,
     "metadata": {},
     "output_type": "execute_result"
    }
   ],
   "source": [
    "# 시간으로 확인하기\n",
    "(time1 - time2).days * 24 + math.floor((time1 - time2).seconds / 60 / 60)"
   ]
  },
  {
   "cell_type": "code",
   "execution_count": 188,
   "metadata": {},
   "outputs": [
    {
     "data": {
      "text/plain": [
       "datetime.datetime(2022, 6, 27, 16, 16, 55, 496814)"
      ]
     },
     "execution_count": 188,
     "metadata": {},
     "output_type": "execute_result"
    }
   ],
   "source": [
    "# 특정 날짜로부터 시간 계산\n",
    "time2 + timedelta(days= -5) # 5일 전\n",
    "time2 + timedelta(days= 5) # 5일 후"
   ]
  },
  {
   "cell_type": "code",
   "execution_count": 40,
   "metadata": {},
   "outputs": [
    {
     "name": "stdout",
     "output_type": "stream",
     "text": [
      "2022-07-29 22:41:13.393806\n"
     ]
    }
   ],
   "source": [
    "print(time2 + timedelta(days=1 ,hours=-2))"
   ]
  },
  {
   "cell_type": "markdown",
   "metadata": {},
   "source": [
    "---"
   ]
  }
 ],
 "metadata": {
  "kernelspec": {
   "display_name": "Python 3.9.12",
   "language": "python",
   "name": "python3"
  },
  "language_info": {
   "codemirror_mode": {
    "name": "ipython",
    "version": 3
   },
   "file_extension": ".py",
   "mimetype": "text/x-python",
   "name": "python",
   "nbconvert_exporter": "python",
   "pygments_lexer": "ipython3",
   "version": "3.9.12"
  },
  "orig_nbformat": 4,
  "vscode": {
   "interpreter": {
    "hash": "021a32019d001a0d5d9f52281752de5ad2cd6a3ddf13a34d29ba3f0510f7f637"
   }
  }
 },
 "nbformat": 4,
 "nbformat_minor": 2
}
