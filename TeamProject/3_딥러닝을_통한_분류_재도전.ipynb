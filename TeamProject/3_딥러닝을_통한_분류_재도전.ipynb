{
  "nbformat": 4,
  "nbformat_minor": 0,
  "metadata": {
    "colab": {
      "name": "3.딥러닝을 통한 분류 재도전.ipynb",
      "private_outputs": true,
      "provenance": [],
      "collapsed_sections": []
    },
    "kernelspec": {
      "name": "python3",
      "display_name": "Python 3"
    },
    "language_info": {
      "name": "python"
    }
  },
  "cells": [
    {
      "cell_type": "markdown",
      "source": [
        "# 데이터 불러와 전처리하기"
      ],
      "metadata": {
        "id": "BEOTKEgNwIg_"
      }
    },
    {
      "cell_type": "code",
      "execution_count": null,
      "metadata": {
        "id": "GxpdEfOFwBR2"
      },
      "outputs": [],
      "source": [
        "# 구글 드라이브에서 파일 불러오기 설정\n",
        "from google.colab import drive\n",
        "drive.mount('/content/gdrive')"
      ]
    },
    {
      "cell_type": "code",
      "source": [
        "# songs.csv를 불러와 dataframe으로 만들기\n",
        "import pandas as pd\n",
        "path = '/content/gdrive/My Drive/Colab Notebooks/더조은-딥러닝/data/songs_preprocessed.csv'\n",
        "songs = pd.read_csv(path)"
      ],
      "metadata": {
        "id": "3RuyvbqawX5S"
      },
      "execution_count": null,
      "outputs": []
    },
    {
      "cell_type": "code",
      "source": [
        "categories = songs['genre'].to_list()\n",
        "\n",
        "def category_encode(category):\n",
        "    if category == '발라드':\n",
        "        return [1,0,0,0]\n",
        "    elif category == '댄스':\n",
        "        return [0,1,0,0]\n",
        "    elif category == '힙합':\n",
        "        return [0,0,1,0]\n",
        "    else:\n",
        "        return [0,0,0,1]"
      ],
      "metadata": {
        "id": "Lv3pJ60PmbNy"
      },
      "execution_count": null,
      "outputs": []
    },
    {
      "cell_type": "code",
      "source": [
        "encoded_category = [category_encode(category) for category in categories]\n",
        "encoded_category"
      ],
      "metadata": {
        "id": "z2YnBLkfmpYK"
      },
      "execution_count": null,
      "outputs": []
    },
    {
      "cell_type": "code",
      "source": [
        "# 장르 맵핑하기\n",
        "songs['genre'] = songs['genre'].map({'발라드':0, '댄스':1, '힙합':2, '트로트':3})\n",
        "songs.head()"
      ],
      "metadata": {
        "id": "EoTgVnICwjXV"
      },
      "execution_count": null,
      "outputs": []
    },
    {
      "cell_type": "code",
      "source": [
        "# data와 target으로 분류하기\n",
        "target = songs['genre']\n",
        "data = songs['lyric']"
      ],
      "metadata": {
        "id": "R5v8h0GD8BkW"
      },
      "execution_count": null,
      "outputs": []
    },
    {
      "cell_type": "markdown",
      "source": [
        "# 전처리 함수 만들기"
      ],
      "metadata": {
        "id": "cmEGgdPswzZo"
      }
    },
    {
      "cell_type": "code",
      "source": [
        "!pip install konlpy"
      ],
      "metadata": {
        "id": "AaQbx-0B6bmJ"
      },
      "execution_count": null,
      "outputs": []
    },
    {
      "cell_type": "code",
      "source": [
        "import tensorflow as tf\n",
        "from tensorflow import keras\n",
        "import konlpy\n",
        "from konlpy.tag import Okt\n",
        "okt = Okt()"
      ],
      "metadata": {
        "id": "4glMGOcGxGa4"
      },
      "execution_count": null,
      "outputs": []
    },
    {
      "cell_type": "code",
      "source": [
        "def preprocess(text):\n",
        "  return okt.morphs(text)"
      ],
      "metadata": {
        "id": "1T_ciAIfwmx9"
      },
      "execution_count": null,
      "outputs": []
    },
    {
      "cell_type": "code",
      "source": [
        "# preprocess 잘 되는지 확인\n",
        "preprocess(data[0])[:5]"
      ],
      "metadata": {
        "id": "8YyY_Y2p6r8P"
      },
      "execution_count": null,
      "outputs": []
    },
    {
      "cell_type": "markdown",
      "source": [
        "# 사전 만들기"
      ],
      "metadata": {
        "id": "t2Qpa1w77aqn"
      }
    },
    {
      "cell_type": "code",
      "source": [
        "data = [preprocess(lyric) for lyric in data]"
      ],
      "metadata": {
        "id": "Z84zjoZpYD3G"
      },
      "execution_count": null,
      "outputs": []
    },
    {
      "cell_type": "code",
      "source": [
        "# 중복 없는 토큰 갯수 파악\n",
        "tokens = {}\n",
        "# 가장 긴 단어 갯수 확인(padding 추가 위함)\n",
        "max_length = 0\n",
        "max_i = 0\n",
        "\n",
        "for lyric in data:\n",
        "  if len(lyric) > max_length:\n",
        "    max_length = len(lyric)\n",
        "  for token in lyric:\n",
        "    if token not in tokens:\n",
        "      tokens[token] = 0\n",
        "    tokens[token] += 1\n",
        "    max_i = i\n",
        "tokens = sorted(tokens.items(), key = lambda x:x[1], reverse = True)\n",
        "print(max_length)\n",
        "print(max_i)\n"
      ],
      "metadata": {
        "id": "QLKgjIEk7aCn"
      },
      "execution_count": null,
      "outputs": []
    },
    {
      "cell_type": "code",
      "source": [
        "tokens[0:5]"
      ],
      "metadata": {
        "id": "vo1kIBvpdOuT"
      },
      "execution_count": null,
      "outputs": []
    },
    {
      "cell_type": "markdown",
      "source": [
        "# 정수로 변환"
      ],
      "metadata": {
        "id": "ynFfWq7zZQRK"
      }
    },
    {
      "cell_type": "code",
      "source": [
        "token_to_index = {}\n",
        "i = 1\n",
        "for (token, frequency) in tokens:\n",
        "  if frequency > 1:\n",
        "    token_to_index[token] = i\n",
        "    i += 1\n",
        "  else:\n",
        "    token_to_index[token] = 0 # 빈도수 1이면 0으로 바꿔버린다"
      ],
      "metadata": {
        "id": "PByCXahBdnEH"
      },
      "execution_count": null,
      "outputs": []
    },
    {
      "cell_type": "code",
      "source": [
        "data_indexed = [[token_to_index[token] for token in lyric] for lyric in data]"
      ],
      "metadata": {
        "id": "P3K8Of_3YoHl"
      },
      "execution_count": null,
      "outputs": []
    },
    {
      "cell_type": "code",
      "source": [
        "# max_length 미달인 녀석들 0으로 패딩\n",
        "data_padded = keras.preprocessing.sequence.pad_sequences(data_indexed, maxlen=max_length, padding='post')"
      ],
      "metadata": {
        "id": "5-R0QbmBfCKu"
      },
      "execution_count": null,
      "outputs": []
    },
    {
      "cell_type": "code",
      "source": [
        "data_padded"
      ],
      "metadata": {
        "id": "gv1wPP4ifwX5"
      },
      "execution_count": null,
      "outputs": []
    },
    {
      "cell_type": "code",
      "source": [
        "encoded_category"
      ],
      "metadata": {
        "id": "8FZIqtpCkDNJ"
      },
      "execution_count": null,
      "outputs": []
    },
    {
      "cell_type": "markdown",
      "source": [
        "# 모델 구현"
      ],
      "metadata": {
        "id": "DlynnAUmfz-x"
      }
    },
    {
      "cell_type": "code",
      "source": [
        "max_length"
      ],
      "metadata": {
        "id": "dhL6i-5AnQZT"
      },
      "execution_count": null,
      "outputs": []
    },
    {
      "cell_type": "code",
      "source": [
        "model = keras.Sequential()\n",
        "model.add(keras.layers.Embedding(\n",
        "    input_dim = max_i + 1,\n",
        "    output_dim = 64,\n",
        "    input_length = max_length,\n",
        "    mask_zero = True\n",
        "))\n",
        "model.add(keras.layers.LSTM(64))\n",
        "model.add(keras.layers.Dense(32 , activation = \"relu\")) \n",
        "model.add(keras.layers.Dense(4, activation='softmax'))\n",
        "model.summary()"
      ],
      "metadata": {
        "id": "5mrP5NZGf38W"
      },
      "execution_count": null,
      "outputs": []
    },
    {
      "cell_type": "code",
      "source": [
        "np.array(encoded_category).shape"
      ],
      "metadata": {
        "id": "9N4f_ik1p2GV"
      },
      "execution_count": null,
      "outputs": []
    },
    {
      "cell_type": "code",
      "source": [
        "np.array(data_padded).shape"
      ],
      "metadata": {
        "id": "Ex1TsMAfqdGn"
      },
      "execution_count": null,
      "outputs": []
    },
    {
      "cell_type": "code",
      "source": [
        "import numpy as np"
      ],
      "metadata": {
        "id": "vYYeew06lbal"
      },
      "execution_count": null,
      "outputs": []
    },
    {
      "cell_type": "code",
      "source": [
        "model.compile(\n",
        "  optimizer='adam',\n",
        "  loss='sparse_categorical_crossentropy',\n",
        "  metrics=['accuracy']\n",
        ")\n",
        "hist = model.fit(\n",
        "  np.array(data_padded),\n",
        "  np.array(target),\n",
        "  # np.array(encoded_category),\n",
        "  epochs=20,\n",
        ")"
      ],
      "metadata": {
        "id": "EH7iMjWMjhVm"
      },
      "execution_count": null,
      "outputs": []
    },
    {
      "cell_type": "code",
      "source": [
        "# draw graph\n",
        "plt.plot(hist.history['accuracy'])\n",
        "plt.title('model accuracy')\n",
        "plt.ylabel('accuracy')\n",
        "plt.xlabel('epoch')\n",
        "plt.show()"
      ],
      "metadata": {
        "id": "lJfHpsEM2QG8"
      },
      "execution_count": null,
      "outputs": []
    },
    {
      "cell_type": "code",
      "source": [
        "import matplotlib.pyplot as plt\n",
        "\n",
        "plt.plot(history['loss'])\n",
        "plt.plot(history['val_loss'])\n",
        "plt.title('model loss')\n",
        "plt.ylabel('loss')\n",
        "plt.xlabel('epoch')\n",
        "plt.legend(['train', 'valid'], loc='upper left')\n",
        "plt.show()\n"
      ],
      "metadata": {
        "id": "c8eeP-Ro0wBi"
      },
      "execution_count": null,
      "outputs": []
    }
  ]
}